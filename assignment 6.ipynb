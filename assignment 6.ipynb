{
 "cells": [
  {
   "cell_type": "raw",
   "id": "48110f0b",
   "metadata": {},
   "source": [
    "# 1) Escape characters are special characters used in the string to insert a illigal characters in a string\n",
    "\"\\\" is a escape character we use infront of the illegal character and after the illigal character\n",
    "\n",
    "\n"
   ]
  },
  {
   "cell_type": "code",
   "execution_count": 8,
   "id": "9a723d70",
   "metadata": {},
   "outputs": [
    {
     "name": "stdout",
     "output_type": "stream",
     "text": [
      "ineuron is a place to learn  \"data science\" with affrodable price\n"
     ]
    }
   ],
   "source": [
    "#eg\n",
    "s=\"ineuron is a place to learn  \\\"data science\\\" with affrodable price\"\n",
    "print(s)"
   ]
  },
  {
   "cell_type": "raw",
   "id": "f90d4cbd",
   "metadata": {},
   "source": [
    "2) Escape character n help us to go to new line\n",
    "   Escape Character t help us to give tab space(4 space)\n",
    " "
   ]
  },
  {
   "cell_type": "raw",
   "id": "7d63850d",
   "metadata": {},
   "source": [
    "3) you can insert \\ character by \"\"\" \\\"\"\""
   ]
  },
  {
   "cell_type": "raw",
   "id": "d78e336c",
   "metadata": {},
   "source": [
    "4) \"Howl's Moving castle is correct value. The single quote character in the word does not escaped because the single quote character in between the double quotes hence it does not escaped "
   ]
  },
  {
   "cell_type": "raw",
   "id": "6c4cbd48",
   "metadata": {},
   "source": [
    "6)'Hello, world!'[1]= 'e'\n",
    "  'Hello, world!'[0:5]='Hello'\n",
    "  'Hello, world!'[:5]='Hello'\n",
    "  'Hello, world!'[3:]='lo, world!'\n",
    "   "
   ]
  },
  {
   "cell_type": "raw",
   "id": "1806327c",
   "metadata": {},
   "source": [
    "5)we can write a new line by using 3 opening single quote and closing single #quote\n",
    "s='''ineuron\n",
    "       is the \n",
    "       best place to \n",
    "       learn \n",
    "       data science'''\n",
    "print(s)\n",
    "      "
   ]
  },
  {
   "cell_type": "raw",
   "id": "ea0451d1",
   "metadata": {},
   "source": [
    "#7)\n",
    "'Hello'.upper()=converts every character into uppercase\n",
    "'Hello'.upper().isupper()=converts every character into upper case and returns true\n",
    "'Hello'.lower()=converts every character into lowercase"
   ]
  },
  {
   "cell_type": "raw",
   "id": "8c9e9733",
   "metadata": {},
   "source": [
    "8)'Remember, remember, the fifth of July.'.split()\n",
    "'-'.join('There can only one.'.split())\n",
    "\n",
    "There-can-only-one\n"
   ]
  },
  {
   "cell_type": "raw",
   "id": "90cc43f1",
   "metadata": {},
   "source": [
    "9) the syntax for right justifying is variable name.rjust(width)\n",
    "                  left justifying  is variable name.ljust(width)\n",
    "                  centering variable name.centre()\n",
    "                  "
   ]
  },
  {
   "cell_type": "raw",
   "id": "9d3791ab",
   "metadata": {},
   "source": [
    "10) the best way to remove whitespace characters from startd to end is\n",
    "\"\".join(stringvariable.split()"
   ]
  }
 ],
 "metadata": {
  "kernelspec": {
   "display_name": "Python 3 (ipykernel)",
   "language": "python",
   "name": "python3"
  },
  "language_info": {
   "codemirror_mode": {
    "name": "ipython",
    "version": 3
   },
   "file_extension": ".py",
   "mimetype": "text/x-python",
   "name": "python",
   "nbconvert_exporter": "python",
   "pygments_lexer": "ipython3",
   "version": "3.9.12"
  }
 },
 "nbformat": 4,
 "nbformat_minor": 5
}
